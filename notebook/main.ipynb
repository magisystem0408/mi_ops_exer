{
 "cells": [
  {
   "cell_type": "code",
   "execution_count": null,
   "metadata": {
    "collapsed": true,
    "pycharm": {
     "name": "#%%\n"
    }
   },
   "outputs": [],
   "source": [
    "import numpy as np\n",
    "import pandas as pd\n",
    "import mlflow\n",
    "import mlflow.sklearn"
   ]
  },
  {
   "cell_type": "code",
   "execution_count": null,
   "outputs": [],
   "source": [
    "mlflow.set_experiment(experiment_name=\"mlflow demo\")\n",
    "training_data = pd.read_csv('storepurchasedata.csv')\n",
    "print(\"Loaded training data\")\n",
    "\n",
    "training_data.describe()\n",
    "\n",
    "mlflow.log_param(\"training_percentage\", 70)\n",
    "mlflow.log_param(\"dataset shape\", training_data.shape)\n",
    "\n",
    "X = training_data.iloc[:, :-1].values\n",
    "y = training_data.iloc[:, -1].values\n",
    "\n",
    "from sklearn.model_selection import train_test_split\n",
    "\n",
    "X_train, X_test, y_train, y_test = train_test_split(X, y, test_size=.70, random_state=0)\n",
    "\n",
    "from sklearn.preprocessing import StandardScaler\n",
    "\n",
    "sc = StandardScaler()\n",
    "X_train = sc.fit_transform(X_train)\n",
    "X_test = sc.transform(X_test)\n",
    "\n",
    "print(\"Completed Feature Scaling\")\n",
    "\n",
    "from sklearn.neighbors import KNeighborsClassifier\n",
    "\n",
    "# minkowski is for ecledian distance\n",
    "classifier = KNeighborsClassifier(n_neighbors=5, metric='minkowski', p=2)\n",
    "\n",
    "# Model training\n",
    "classifier.fit(X_train, y_train)\n",
    "print(\"Model training\")\n",
    "\n",
    "y_pred = classifier.predict(X_test)\n",
    "y_prob = classifier.predict_proba(X_test)[:, 1]\n",
    "\n",
    "from sklearn.metrics import confusion_matrix\n",
    "\n",
    "cm = confusion_matrix(y_test, y_pred)\n",
    "\n",
    "from sklearn.metrics import accuracy_score\n",
    "\n",
    "model_accuracy = accuracy_score(y_test, y_pred)\n",
    "print(model_accuracy)\n",
    "\n",
    "# send mlflow model_accuracy data\n",
    "mlflow.log_metric(\"accuracy\", model_accuracy)\n",
    "\n",
    "# send mlflow modelArch\n",
    "mlflow.sklearn.log_model(classifier, \"model\")"
   ],
   "metadata": {
    "collapsed": false,
    "pycharm": {
     "name": "#%%\n"
    }
   }
  }
 ],
 "metadata": {
  "kernelspec": {
   "display_name": "Python 3",
   "language": "python",
   "name": "python3"
  },
  "language_info": {
   "codemirror_mode": {
    "name": "ipython",
    "version": 2
   },
   "file_extension": ".py",
   "mimetype": "text/x-python",
   "name": "python",
   "nbconvert_exporter": "python",
   "pygments_lexer": "ipython2",
   "version": "2.7.6"
  }
 },
 "nbformat": 4,
 "nbformat_minor": 0
}